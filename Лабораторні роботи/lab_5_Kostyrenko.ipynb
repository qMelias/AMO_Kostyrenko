{
 "cells": [
  {
   "cell_type": "markdown",
   "id": "bd9d0fd8-a9e8-4b02-aa97-428b25307be0",
   "metadata": {},
   "source": [
    "---\n",
    "# <center> Лабораторна робота №5 </center>\n",
    "## __Тема. Алгоритми пошуку__\n",
    "## __Мета:__ Засвоїти варіанти реалізації алгоритмів пошуку засобами Python і \n",
    "методи оцінювання їх складності\n",
    "---"
   ]
  },
  {
   "cell_type": "markdown",
   "id": "116b4093-914d-4145-8a3c-1e0e2f45d86d",
   "metadata": {},
   "source": [
    "# <center> Хід роботи </center>"
   ]
  },
  {
   "cell_type": "markdown",
   "id": "e8c07055-0c02-4a9c-8105-764d333b1cce",
   "metadata": {},
   "source": [
    "## 1) Оцінити асимптотичну складність алгоритму лінійного пошуку в О-нотації.\n"
   ]
  },
  {
   "cell_type": "code",
   "execution_count": 13,
   "id": "1592cf23-007c-4d15-b7da-3323ca98fcc3",
   "metadata": {},
   "outputs": [
    {
     "name": "stdout",
     "output_type": "stream",
     "text": [
      "Елемент знайдений на індексі 3\n"
     ]
    }
   ],
   "source": [
    "def linear_search(arr, target):\n",
    "    for i in range(len(arr)):\n",
    "        if arr[i] == target:\n",
    "            return i  \n",
    "    return -1  \n",
    "\n",
    "\n",
    "arr = [3, 5, 7, 9, 11, 13]\n",
    "target = 9\n",
    "\n",
    "result = linear_search(arr, target)\n",
    "\n",
    "if result != -1:\n",
    "    print(f\"Елемент знайдений на індексі {result}\")\n",
    "else:\n",
    "    print(\"Елемент не знайдений\")\n",
    "\n"
   ]
  },
  {
   "cell_type": "markdown",
   "id": "5423428f-2ae1-434c-be10-5af0bdb3cab4",
   "metadata": {},
   "source": [
    "### Оцінка асимптотичної складності алгоритму лінійного пошуку\n",
    "\n",
    "Асимптотична складність алгоритму лінійного пошуку виглядає наступним чином:\n",
    "\n",
    "- **Найгірший випадок**: $O(n)$, коли шуканий елемент знаходиться в кінці масиву або його взагалі немає. В такому випадку необхідно перевірити кожен елемент.\n",
    "- **Найкращий випадок**: $O(1)$, якщо елемент знаходиться на першій позиції.\n",
    "- **Середній випадок**: $O(n)$, оскільки в середньому потрібно перевірити близько половини елементів.\n"
   ]
  },
  {
   "cell_type": "markdown",
   "id": "ada092d4-74af-434e-910b-b13696232a73",
   "metadata": {},
   "source": [
    "## 2) Oцінити асимптотичну складність алгоритму бінарного пошуку в О-нотації."
   ]
  },
  {
   "cell_type": "code",
   "execution_count": 4,
   "id": "db88726c-c2ef-4a8c-852a-118013d76373",
   "metadata": {},
   "outputs": [
    {
     "name": "stdout",
     "output_type": "stream",
     "text": [
      "Елемент знайдений на індексі 5\n"
     ]
    }
   ],
   "source": [
    "def binary_search(arr, target):\n",
    "    left, right = 0, len(arr) - 1\n",
    "    \n",
    "    while left <= right:\n",
    "        mid = (left + right) // 2 \n",
    "        \n",
    "        if arr[mid] == target:\n",
    "            return mid  \n",
    "        elif arr[mid] < target:\n",
    "            left = mid + 1  \n",
    "        else:\n",
    "            right = mid - 1  \n",
    "    \n",
    "    return -1  \n",
    "\n",
    "arr = [2, 3, 35, 37, 19, 55, 13]\n",
    "target = 55\n",
    "\n",
    "result = binary_search(arr, target)\n",
    "\n",
    "if result != -1:\n",
    "    print(f\"Елемент знайдений на індексі {result}\")\n",
    "else:\n",
    "    print(\"Елемент не знайдений\")\n"
   ]
  },
  {
   "cell_type": "markdown",
   "id": "ec1d6085-7f13-4816-a33b-0d6ec9bc344e",
   "metadata": {},
   "source": [
    "### Оцінка асимптотичної складності алгоритму бінарного пошуку\n",
    "\n",
    "Алгоритм бінарного пошуку працює за принципом поділу масиву навпіл, що дозволяє значно зменшити кількість перевірок. Ось як оцінюється асимптотична складність:\n",
    "\n",
    "- **Найгірший випадок**: $O(\\log n)$ — кожного разу масив ділиться навпіл, тому кількість операцій зменшується вдвічі з кожною ітерацією. Таким чином, складність росте логарифмічно.\n",
    "- **Найкращий випадок**: $O(1)$ — якщо елемент знаходиться в середині масиву, алгоритм одразу його знаходить.\n",
    "- **Середній випадок**: $O(\\log n)$ — у середньому кількість перевірок також буде логарифмічною, оскільки масив буде постійно ділитися навпіл.\n"
   ]
  },
  {
   "cell_type": "markdown",
   "id": "bdac0ae2-a031-46ab-a5bb-8b0783993dbf",
   "metadata": {},
   "source": [
    "## 3) Написати функцію, яка б могла повертати датафрейм з таким складом полів: («n», «time»), де n – розмір масиву для функції linear_searh();"
   ]
  },
  {
   "cell_type": "code",
   "execution_count": 37,
   "id": "c9e4cbb3-9c0a-4558-a28a-8cf28c0aab55",
   "metadata": {},
   "outputs": [
    {
     "name": "stdout",
     "output_type": "stream",
     "text": [
      "          n      time\n",
      "0    300000  0.016952\n",
      "1    500000  0.031916\n",
      "2    600000  0.036533\n",
      "3    800000  0.047900\n",
      "4   1000000  0.061051\n",
      "5  12000000  0.688030\n"
     ]
    }
   ],
   "source": [
    "import time\n",
    "import pandas as pd\n",
    "import random\n",
    "\n",
    "\n",
    "def linear_search(a_list, x):\n",
    "    i, length = 0, len(a_list)\n",
    "    while i < length and x != a_list[i]:\n",
    "        i += 1\n",
    "    return i if i < length else -1\n",
    "\n",
    "\n",
    "def linear_search_time(n_values):\n",
    "    times = []\n",
    "    for n in n_values:\n",
    "        a_list = random.sample(range(1, 10*n), n)  \n",
    "        start_time = time.time()\n",
    "        linear_search(a_list, -1)  \n",
    "        end_time = time.time()\n",
    "        times.append(end_time - start_time)  \n",
    "    return pd.DataFrame({'n': n_values, 'time': times})\n",
    "\n",
    "# Тестування функції\n",
    "n_values = [300000, 500000, 600000, 800000, 1000000, 12000000]  \n",
    "linear_df = linear_search_time(n_values)\n",
    "print(linear_df)\n"
   ]
  },
  {
   "cell_type": "markdown",
   "id": "3da70504-67c2-428d-8ef6-e675b5a3beb5",
   "metadata": {},
   "source": [
    "## 4) − написати функцію, яка б могла повертати датафрейм з таким складом полів: («n», «time»), де n – розмір масиву для функції bin_searh()"
   ]
  },
  {
   "cell_type": "code",
   "execution_count": 38,
   "id": "664b918f-2391-4899-b270-b23ace9a5ad9",
   "metadata": {},
   "outputs": [
    {
     "name": "stdout",
     "output_type": "stream",
     "text": [
      "          n  time\n",
      "0    300000   0.0\n",
      "1    500000   0.0\n",
      "2    600000   0.0\n",
      "3    800000   0.0\n",
      "4   1000000   0.0\n",
      "5  12000000   0.0\n"
     ]
    }
   ],
   "source": [
    "def bin_search(a_list, x, left, right):\n",
    "    if left > right:\n",
    "        return -1\n",
    "    middle = (left + right) // 2\n",
    "    if a_list[middle] == x:\n",
    "        return middle\n",
    "    elif a_list[middle] < x:\n",
    "        return bin_search(a_list, x, middle + 1, right)\n",
    "    else:\n",
    "        return bin_search(a_list, x, left, middle - 1)\n",
    "\n",
    "\n",
    "def bin_search_time(n_values):\n",
    "    times = []\n",
    "    for n in n_values:\n",
    "        a_list = sorted(random.sample(range(1, 10*n), n))  \n",
    "        start_time = time.time()\n",
    "        bin_search(a_list, -1, 0, len(a_list) - 1)  \n",
    "        end_time = time.time()\n",
    "        times.append(end_time - start_time)  \n",
    "    return pd.DataFrame({'n': n_values, 'time': times})\n",
    "\n",
    "# Тестування функції\n",
    "bin_values = [300000, 500000, 600000, 800000, 1000000, 12000000]  \n",
    "bin_df = bin_search_time(bin_values)\n",
    "print(bin_df)\n",
    "\n"
   ]
  },
  {
   "cell_type": "markdown",
   "id": "631056c7-c19b-4aa1-b904-3596fdbca4c2",
   "metadata": {},
   "source": [
    "## 5) За результатами попередніх завдань побудувати графіки залежності часу виконання процедури пошуку від розміру масиву.\n"
   ]
  },
  {
   "cell_type": "code",
   "execution_count": 42,
   "id": "265916e6-c67b-46d2-b58d-2c3e4cb3fdfd",
   "metadata": {},
   "outputs": [
    {
     "data": {
      "image/png": "[encoded data removed]",
      "text/plain": [
       "<Figure size 640x480 with 1 Axes>"
      ]
     },
     "metadata": {},
     "output_type": "display_data"
    }
   ],
   "source": [
    "import matplotlib.pyplot as plt\n",
    "\n",
    "# графіки\n",
    "def plot_time_comparison(linear_df, bin_df):\n",
    "    plt.plot(linear_df['n'], linear_df['time'], label='Лінійний пошук (O(n))', marker='o', color='purple')\n",
    "    plt.plot(bin_df['n'], bin_df['time'], label='Бінарний пошук (O(log n))', marker='x', color='cyan')\n",
    "    \n",
    "    plt.xlabel('Розмір масиву (n)')\n",
    "    plt.ylabel('Час виконання (секунди)')\n",
    "    plt.title('Порівняння часу виконання  пошуку')\n",
    "    plt.legend()\n",
    "    plt.grid(True)\n",
    "    plt.show()\n",
    "\n",
    "#функції для графіка\n",
    "plot_time_comparison(linear_df, bin_df)"
   ]
  },
  {
   "cell_type": "markdown",
   "id": "1ca6500c-4225-4b69-bc55-e38c445369fc",
   "metadata": {},
   "source": [
    "## 6) Оцінити, який з двох алгоритмів є ефективнішим і в якому діапазоні розміру задачі."
   ]
  },
  {
   "cell_type": "markdown",
   "id": "df256e17-d7ce-4863-aef1-7ac965240bac",
   "metadata": {
    "jp-MarkdownHeadingCollapsed": true
   },
   "source": [
    "З графіків, побудованих раніше, можна побачити, що лінійний пошук зростає пропорційно розміру масиву, а бінарний пошук — набагато повільніше. На малих розмірах масивів час виконання обох алгоритмів може бути схожим, але на великих масивах бінарний пошук стане значно ефективнішим"
   ]
  },
  {
   "cell_type": "markdown",
   "id": "1bf71a5c-ba31-48b7-a6ce-7760c59ed6a6",
   "metadata": {},
   "source": [
    "# <center> Контрольні питання </center>"
   ]
  },
  {
   "cell_type": "markdown",
   "id": "38e58506-02ca-4df0-940f-29f0774fe43f",
   "metadata": {},
   "source": [
    "# Сформулювати задачу пошуку\n",
    "\n",
    "**Задача:**  \n",
    "Дано масив чисел $A = [a_1, a_2, \\dots, a_n]$, де $n$ — розмір масиву. Необхідно знайти індекс елемента $x$, який відповідає умові $A[i] = x$, або повернути $-1$, якщо такий елемент відсутній.\n",
    "\n",
    "---\n",
    "\n",
    "### Умови задачі:\n",
    "\n",
    "1. **Вхідні дані:**\n",
    "   - Масив $A$, який може бути:\n",
    "     - **Необов'язково відсортованим** (підходить для лінійного пошуку).\n",
    "     - **Відсортованим за зростанням** (підходить для бінарного пошуку).\n",
    "   - Шуканий елемент $x$, який потрібно знайти в масиві.\n",
    "\n",
    "2. **Вихідні дані:**\n",
    "   - Індекс елемента $x$ у масиві $A$, якщо він присутній.\n",
    "   - Значення $-1$, якщо елемент $x$ у масиві відсутній.\n",
    "\n",
    "3. **Обмеження:**\n",
    "   - $n > 0$ — масив не може бути порожнім.\n",
    "   - Масив може містити повторювані елементи, але алгоритми завжди повертають індекс першого знайденого елемента.\n"
   ]
  },
  {
   "cell_type": "markdown",
   "id": "3f705d40-1755-4ca5-98a0-5e3b3f531ef4",
   "metadata": {},
   "source": [
    "# Які критерії можна використовувати для оцінювання ефективності алгоритмів пошуку?"
   ]
  },
  {
   "cell_type": "markdown",
   "id": "affd2ca7-30fb-42ac-90bd-d7f8f5a4fc09",
   "metadata": {},
   "source": [
    "## 1. **Часова складність**\n",
    "   - Визначає, як змінюється час роботи алгоритму залежно від розміру вхідних даних $n$.\n",
    "   - Основні категорії асимптотичної складності:\n",
    "     - **Лінійний пошук**: $O(n)$ — час виконання збільшується пропорційно до розміру масиву.\n",
    "     - **Бінарний пошук**: $O(\\\\log n)$ — час виконання зростає логарифмічно зі збільшенням розміру масиву.\n",
    "   - Розглядаються три основні сценарії:\n",
    "     - **Найгірший випадок** — максимальний обсяг роботи.\n",
    "     - **Середній випадок** — очікувана продуктивність.\n",
    "     - **Найкращий випадок** — мінімальний обсяг роботи.\n",
    "\n",
    "---\n",
    "\n",
    "## 2. **Просторова складність**\n",
    "   - Оцінює обсяг додаткової пам’яті, яку використовує алгоритм.   - Типова просторова складність для пошукових алгоритмів:     - **Лінійний пошук**: $O(1)$ — не потребує додаткової пам’яті.\\n     - **Бінарний пошук**: $O(1)$ — працює без додаткових структур даних.\n",
    "\n",
    "---\n",
    "\n",
    "## 3. **Стабільність алгоритму**\n",
    "   - У випадку повторюваних елементів стабільний алгоритм завжди знаходить перший елемент, що задовольняє умову пошуку.\n",
    "\n",
    "---\n",
    "\n",
    "## 4. **Придатність до різних типів даних**\n",
    "   - **Лінійний пошук** застосовується для **невідсортованих** масивів.   - **Бінарний пошук** вимагає **відсортованих** масивів.\n",
    "\n",
    "---\n",
    "\n",
    "## 5. **Простота реалізації**\n",
    "   - **Лінійний пошук** легко реалізувати та зрозуміти навіть для новачків.   - **Бінарний пошук** складніший, особливо при використанні рекурсії.\n",
    "\n",
    "---\n",
    "\n",
    "## 6. **Швидкість виконання**\n",
    "   - Вимірюється на практиці, оцінюючи час виконання алгоритму для масивів різного розміру.\n",
    "\n",
    "---\n",
    "\n",
    "## 7. **Гнучкість**\n",
    "   - Оцінює можливість застосування алгоритму до різних структур даних:     - **Лінійний пошук** підходить для списків і потоків даних.     - **Бінарний пошук** потребує структур даних із можливістю сортування.\n"
   ]
  },
  {
   "cell_type": "markdown",
   "id": "5ca1dde5-05ad-4623-8a23-ea2c231b11ef",
   "metadata": {},
   "source": [
    "#  Що таке лінійний пошук і яка його асимптотична складність?\n",
    "\n",
    "## Що таке лінійний пошук?\n",
    "**Лінійний пошук** — це простий алгоритм, який проходить через усі елементи масиву послідовно, доки не знайде потрібний елемент або не завершить перегляд.\n",
    "\n",
    "---\n",
    "\n",
    "## Як працює алгоритм?\n",
    "\n",
    "1. Розпочати з першого елемента масиву.\n",
    "2. Порівнювати поточний елемент із шуканим значенням $x$.\n",
    "3. Якщо знайдено збіг, повернути індекс елемента.\n",
    "4. Якщо після перевірки всіх елементів шуканий елемент не знайдено, повернути $-1$.\n",
    "\n",
    "---\n",
    "\n",
    "## Приклад роботи\n",
    "Розглянемо масив $A = [5, 3, 8, 6]$ і шуканий елемент $x = 8$:\n",
    "- Починаємо перевірку з першого елемента:\n",
    "  - $5 \\\\neq 8$ — переходимо до наступного.\n",
    "  - $3 \\\\neq 8$ — продовжуємо перевірку.\n",
    "  - $8 = 8$ — елемент знайдено, повертаємо індекс (2).\n",
    "\n",
    "---\n",
    "\n",
    "## Аналіз складності\n",
    "\n",
    "### 1. Часова складність:\n",
    "- **Найкращий випадок:** $O(1)$ — елемент знайдено одразу.\n",
    "- **Середній випадок:** $O(n/2) \\\\approx O(n)$ — перевіряється приблизно половина елементів.\n",
    "- **Найгірший випадок:** $O(n)$ — потрібно переглянути всі елементи.\n",
    "\n",
    "### 2. Просторова складність:\n",
    "- $O(1)$ — алгоритм не використовує додаткову пам’ять, окрім змінної для індексу.\n",
    "\n",
    "---\n",
    "\n",
    "## Переваги та недоліки\n",
    "\n",
    "### Переваги:\n",
    "- Легкість у реалізації.\n",
    "- Працює з невідсортованими масивами.\n",
    "\n",
    "### Недоліки:\n",
    "- Неефективний для великих масивів через лінійний характер пошуку.\n"
   ]
  },
  {
   "cell_type": "markdown",
   "id": "a906e87d-1b47-4014-be29-d0994b4fea87",
   "metadata": {},
   "source": [
    "# Що таке бінарний (двійковий) пошук і в чому полягає його головний принцип роботи?\n",
    "\n",
    "## Що таке бінарний (двійковий) пошук?\n",
    "**Бінарний пошук** — це алгоритм, який застосовується до **відсортованих масивів**. Він поступово зменшує діапазон пошуку, розділяючи масив на дві частини на кожному етапі.\n",
    "\n",
    "---\n",
    "\n",
    "## Як працює алгоритм?\n",
    "\n",
    "1. Визначити середній елемент масиву.\n",
    "2. Порівняти середній елемент із шуканим значенням $x$:\n",
    "   - Якщо $x$ менше за середній елемент, продовжити пошук у **лівій частині** масиву.\n",
    "   - Якщо $x$ більше за середній елемент, перейти до **правої частини** масиву.\n",
    "   - Якщо середній елемент дорівнює $x$, повернути його індекс.\n",
    "3. Повторювати процес, доки не буде знайдено елемент або діапазон пошуку не стане порожнім.\n",
    "\n",
    "---\n",
    "\n",
    "## Часова складність\n",
    "\n",
    "- **Найкращий випадок:** $O(1)$ — елемент знаходиться одразу.\n",
    "- **Середній та найгірший випадки:** $O(\\log n)$ — кількість кроків зменшується логарифмічно зі збільшенням розміру масиву.\n",
    "\n",
    "---\n",
    "\n",
    "## Чому бінарний пошук ефективний?\n",
    "\n",
    "- Кожен крок зменшує розмір діапазону пошуку вдвічі.\n",
    "- Ефективний для роботи з великими відсортованими масивами.\n",
    "\n",
    "---\n",
    "\n",
    "## Основна перевага\n",
    "Швидкість виконання: завдяки поділу масиву на половини на кожному кроці бінарний пошук виконується значно швидше, ніж лінійний пошук.\n"
   ]
  },
  {
   "cell_type": "markdown",
   "id": "c634012d-406c-4863-aafa-0ae5ac2a9457",
   "metadata": {},
   "source": [
    "# Порівняння бінарного та лінійного пошуку\n",
    "\n",
    "## **Переваги бінарного пошуку:**\n",
    "1. **Швидкість:** Часова складність $O(\\log n)$, що значно ефективніше за $O(n)$ лінійного пошуку для великих масивів.\n",
    "2. **Придатність для великих даних:** Значно швидше знаходить елемент у великих відсортованих масивах.\n",
    "\n",
    "---\n",
    "\n",
    "## **Недоліки бінарного пошуку:**\n",
    "1. **Вимога сортування:** Масив має бути відсортований, що може зайняти $O(n \\log n)$ часу.\n",
    "2. **Складність реалізації:** Бінарний пошук складніший у програмуванні та розумінні для початківців.\n",
    "3. **Непридатність для динамічних даних:** Не працює на змінних чи несортованих структурах.\n",
    "\n",
    "---\n",
    "\n",
    "## **Переваги лінійного пошуку:**\n",
    "1. **Простота:** Легкий у реалізації та розумінні.\n",
    "2. **Універсальність:** Працює на несортованих масивах або потоках даних.\n",
    "\n",
    "---\n",
    "\n",
    "## **Недоліки лінійного пошуку:**\n",
    "1. **Повільність:** Часова складність $O(n)$ робить його неефективним для великих масивів.\n"
   ]
  },
  {
   "cell_type": "markdown",
   "id": "18367971-e71a-4b70-b587-9785bde7c18a",
   "metadata": {},
   "source": [
    "# Які ще алгоритми пошуку існують, окрім лінійного і бінарного?\n",
    "\n",
    "## алгоритми пошуку існують:\n",
    "\n",
    "1. **Індексований пошук**\n",
    "   - Виконується через індексацію елементів, наприклад, із використанням хеш-таблиць.\n",
    "   - Час пошуку: $O(1)$ у середньому випадку.\n",
    "\n",
    "2. **Пошук у дереві**\n",
    "   - Застосовуються алгоритми для роботи з бінарними деревами пошуку (BST), AVL-деревами, червоно-чорними деревами тощо.\n",
    "   - Часова складність: $O(\\log n)$ для збалансованих дерев.\n",
    "\n",
    "3. **Пошук із використанням хешування**\n",
    "   - Застосовуються хеш-таблиці для швидкого доступу до елементів.\n",
    "   - Часова складність: $O(1)$ у середньому випадку.\n",
    "\n",
    "4. **Пошук у графах**\n",
    "   - Використовуються алгоритми:\n",
    "     - **Пошук у глибину (DFS)**.\n",
    "     - **Пошук у ширину (BFS)**.\n",
    "   - Часова складність: $O(V + E)$, де $V$ — кількість вершин, $E$ — кількість ребер.\n",
    "\n",
    "5. **Пошук у інтервальних деревах**\n",
    "   - Застосовується для знаходження елементів у діапазонах або відрізках, наприклад, із використанням інтервальних дерев.\n",
    "   - Часова складність: $O(\\log n)$.\n",
    "\n",
    "6. **Пошук із використанням двійкового дерева відсічень**\n",
    "   - Використовується для роботи з відсортованими даними, особливо для операцій типу \"менше або рівно\" чи \"більше або рівно\".\n",
    "   - Забезпечує ефективність для великих масивів даних.\n"
   ]
  },
  {
   "cell_type": "code",
   "execution_count": null,
   "id": "dfd61c71-4afc-4969-922b-f028ff4499bf",
   "metadata": {},
   "outputs": [],
   "source": []
  }
 ],
 "metadata": {
  "kernelspec": {
   "display_name": "Python 3 (ipykernel)",
   "language": "python",
   "name": "python3"
  },
  "language_info": {
   "codemirror_mode": {
    "name": "ipython",
    "version": 3
   },
   "file_extension": ".py",
   "mimetype": "text/x-python",
   "name": "python",
   "nbconvert_exporter": "python",
   "pygments_lexer": "ipython3",
   "version": "3.12.8"
  }
 },
 "nbformat": 4,
 "nbformat_minor": 5
}
